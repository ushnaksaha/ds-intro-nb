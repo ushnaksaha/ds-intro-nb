{
 "cells": [
  {
   "cell_type": "markdown",
   "id": "fb3e932c-a84f-413b-92f1-543ac4cdfca8",
   "metadata": {},
   "source": [
    "# Data Science Tools and Ecosystem"
   ]
  },
  {
   "cell_type": "markdown",
   "id": "3e6a20a3-6808-4cae-8a25-8d86b567f4d7",
   "metadata": {},
   "source": [
    "This notebook provides a summary of Data Science tools and the ecosystem surrounding them."
   ]
  },
  {
   "cell_type": "markdown",
   "id": "a0632297-46aa-46fe-ab30-600ec0ae1a42",
   "metadata": {},
   "source": [
    "Objectives:\n",
    "- List popular languages for Data Science\n",
    "- List commonly used libraries for Data Science\n",
    "- List popular open source environments for Data Science\n",
    "- Evaluate basic arithmetic operations using Python"
   ]
  },
  {
   "cell_type": "markdown",
   "id": "cbf502d6-a0dc-4715-b07e-2cce31b00b93",
   "metadata": {},
   "source": [
    "## Author\n",
    "Ushnak Saha"
   ]
  },
  {
   "cell_type": "markdown",
   "id": "be83438f-a087-4173-a6b7-705b85d24c5d",
   "metadata": {},
   "source": [
    "Some of the popular languages that Data Scientists use are:\n",
    "1. Python\n",
    "2. R\n",
    "3. Julia\n",
    "4. SQL"
   ]
  },
  {
   "cell_type": "markdown",
   "id": "38e649d7-18aa-4622-995c-f6098adf1e8a",
   "metadata": {},
   "source": [
    "Some of the commonly used libraries used by Data Scientists include:\n",
    "1. pandas\n",
    "2. numpy\n",
    "3. pytorch\n",
    "4. matplotlib\n",
    "5. seaborn"
   ]
  },
  {
   "cell_type": "markdown",
   "id": "9bc19cf3-b25e-426d-880a-ed9aee35a3ae",
   "metadata": {},
   "source": [
    "| Data Science Tools       |\n",
    "|--------------------------|\n",
    "| Jupyter Notebook         |\n",
    "| RStudio                  |\n",
    "| Apache Zeppelin          |"
   ]
  },
  {
   "cell_type": "markdown",
   "id": "264d67e1-98ea-4a37-9ce5-eca1989d8c91",
   "metadata": {},
   "source": [
    "### Below are a few examples of evaluating arithmetic expressions in Python"
   ]
  },
  {
   "cell_type": "code",
   "execution_count": 2,
   "id": "7c112cf9-3a98-4254-9f6b-139fbb6b1373",
   "metadata": {},
   "outputs": [
    {
     "data": {
      "text/plain": [
       "17"
      ]
     },
     "execution_count": 2,
     "metadata": {},
     "output_type": "execute_result"
    }
   ],
   "source": [
    "# This a simple arithmetic expression to mutiply then add integers\n",
    "\n",
    "(3*4)+5"
   ]
  },
  {
   "cell_type": "code",
   "execution_count": 3,
   "id": "7c18c83f-7f5b-4fad-8e14-d6d1626bb390",
   "metadata": {},
   "outputs": [
    {
     "data": {
      "text/plain": [
       "3.3333333333333335"
      ]
     },
     "execution_count": 3,
     "metadata": {},
     "output_type": "execute_result"
    }
   ],
   "source": [
    "# This will convert 200 minutes to hours by diving by 60\n",
    "\n",
    "200/60"
   ]
  },
  {
   "cell_type": "code",
   "execution_count": null,
   "id": "811d6f35-c8fe-4359-8811-c01720e5df8a",
   "metadata": {},
   "outputs": [],
   "source": []
  }
 ],
 "metadata": {
  "kernelspec": {
   "display_name": "Python 3 (ipykernel)",
   "language": "python",
   "name": "python3"
  },
  "language_info": {
   "codemirror_mode": {
    "name": "ipython",
    "version": 3
   },
   "file_extension": ".py",
   "mimetype": "text/x-python",
   "name": "python",
   "nbconvert_exporter": "python",
   "pygments_lexer": "ipython3",
   "version": "3.11.5"
  }
 },
 "nbformat": 4,
 "nbformat_minor": 5
}
